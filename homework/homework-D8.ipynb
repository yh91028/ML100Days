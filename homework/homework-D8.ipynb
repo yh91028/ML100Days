{
 "cells": [
  {
   "cell_type": "code",
   "execution_count": 24,
   "metadata": {},
   "outputs": [],
   "source": [
    "import numpy as np"
   ]
  },
  {
   "cell_type": "code",
   "execution_count": 25,
   "metadata": {},
   "outputs": [],
   "source": [
    "name_list = ['小明','小華','小菁','小美','小張','John','Mark','Tom']\n",
    "sex_list = ['boy','boy','girl','girl','boy','boy','boy','boy']\n",
    "weight_list = [67.5,75.3,50.1,45.5,80.8,90.4,78.4,70.7]\n",
    "rank_list = [8,1,5,4,7,6,2,3]\n",
    "myopia_list = [True,True,False,False,True,True,False,False]\n",
    "#將上列list依照['name', 'sex', 'weight', 'rank', 'myopia']順序擺入array，並且資料型態順序擺入[Unicode,Unicode,float,int,boolean]\n",
    "dt = {'names':('name','sex','weight','rank','myopia'), 'formats':('U5','U5','f8','i4','?')}\n",
    "data = np.zeros(8, dtype=dt)\n",
    "data['name'] = name_list\n",
    "data['sex'] = sex_list\n",
    "data['weight'] = weight_list\n",
    "data['rank'] = rank_list\n",
    "data['myopia'] = myopia_list"
   ]
  },
  {
   "cell_type": "code",
   "execution_count": 29,
   "metadata": {},
   "outputs": [
    {
     "name": "stdout",
     "output_type": "stream",
     "text": [
      "全部平均體重:  69.8375\n"
     ]
    }
   ],
   "source": [
    "#呈上題，將array中體重(weight)數據集取出算出全部平均體重\n",
    "all_weight = data['weight'].mean()\n",
    "print('全部平均體重: ',all_weight)"
   ]
  },
  {
   "cell_type": "code",
   "execution_count": 27,
   "metadata": {
    "scrolled": true
   },
   "outputs": [
    {
     "name": "stdout",
     "output_type": "stream",
     "text": [
      "男生平均體重:  77.18333333333332\n"
     ]
    }
   ],
   "source": [
    "#呈上題，進一步算出男生(sex欄位是boy)平均體重、女生(sex欄位是girl)平均體重\n",
    "boys = np.where(data['sex']=='boy')[0]\n",
    "boys_weight = np.mean(data['weight'][boys])\n",
    "print('男生平均體重: ',boys_weight)"
   ]
  },
  {
   "cell_type": "code",
   "execution_count": 28,
   "metadata": {},
   "outputs": [
    {
     "name": "stdout",
     "output_type": "stream",
     "text": [
      "女生平均體重:  47.8\n"
     ]
    }
   ],
   "source": [
    "girls = np.where(data['sex']=='girl')[0]\n",
    "girls_weight = np.mean(data['weight'][girls])\n",
    "print('女生平均體重: ',girls_weight)"
   ]
  }
 ],
 "metadata": {
  "kernelspec": {
   "display_name": "Python 3",
   "language": "python",
   "name": "python3"
  },
  "language_info": {
   "codemirror_mode": {
    "name": "ipython",
    "version": 3
   },
   "file_extension": ".py",
   "mimetype": "text/x-python",
   "name": "python",
   "nbconvert_exporter": "python",
   "pygments_lexer": "ipython3",
   "version": "3.8.5"
  }
 },
 "nbformat": 4,
 "nbformat_minor": 4
}
