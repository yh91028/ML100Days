{
 "cells": [
  {
   "cell_type": "code",
   "execution_count": 1,
   "metadata": {},
   "outputs": [],
   "source": [
    "import numpy as np"
   ]
  },
  {
   "cell_type": "code",
   "execution_count": 2,
   "metadata": {},
   "outputs": [
    {
     "name": "stdout",
     "output_type": "stream",
     "text": [
      "英文： 平均 67.16666666666667 最大值 89 最小值 48 標準差 13.433995020924426\n",
      "數學： 平均 66.6 最大值 85.0 最小值 60.0 標準差 9.707728879609279\n",
      "國文： 平均 75.33333333333333 最大值 90 最小值 65 標準差 8.825468196582484\n"
     ]
    }
   ],
   "source": [
    "english_score = np.array([55,89,76,65,48,70])\n",
    "math_score = np.array([60,85,60,68,np.nan,60])\n",
    "chinese_score = np.array([65,90,82,72,66,77])\n",
    "print('英文：','平均',np.nanmean(english_score),'最大值',np.nanmax(english_score),'最小值',np.nanmin(english_score),'標準差',np.nanstd(english_score))\n",
    "print('數學：','平均',np.nanmean(math_score),'最大值',np.nanmax(math_score),'最小值',np.nanmin(math_score),'標準差',np.nanstd(math_score))\n",
    "print('國文：','平均',np.nanmean(chinese_score),'最大值',np.nanmax(chinese_score),'最小值',np.nanmin(chinese_score),'標準差',np.nanstd(chinese_score))"
   ]
  },
  {
   "cell_type": "code",
   "execution_count": 11,
   "metadata": {},
   "outputs": [
    {
     "name": "stdout",
     "output_type": "stream",
     "text": [
      "數學-補考後： 平均 64.66666666666667 最大值 85.0 最小值 55.0 標準差 9.860132971832694\n"
     ]
    }
   ],
   "source": [
    "math_score[4]=55\n",
    "print('數學-補考後：','平均',np.nanmean(math_score),'最大值',np.nanmax(math_score),'最小值',np.nanmin(math_score),'標準差',np.nanstd(math_score))"
   ]
  },
  {
   "cell_type": "code",
   "execution_count": 10,
   "metadata": {
    "scrolled": true
   },
   "outputs": [
    {
     "name": "stdout",
     "output_type": "stream",
     "text": [
      "國文與數學相關係數 [[1.         0.74056803]\n",
      " [0.74056803 1.        ]]\n",
      "國文與英文相關係數 [[1.         0.97792828]\n",
      " [0.97792828 1.        ]]\n",
      "==========================================\n",
      "國文與英文相關係數較高\n"
     ]
    }
   ],
   "source": [
    "print('國文與數學相關係數',np.corrcoef(chinese_score,math_score))\n",
    "print('國文與英文相關係數',np.corrcoef(chinese_score,english_score))\n",
    "print('==========================================')\n",
    "if (np.corrcoef(chinese_score,math_score)[0,1]>np.corrcoef(chinese_score,english_score)[0,1]):\n",
    "    print('國文與數學相關係數較高')\n",
    "else:\n",
    "    print('國文與英文相關係數較高')"
   ]
  }
 ],
 "metadata": {
  "kernelspec": {
   "display_name": "Python 3",
   "language": "python",
   "name": "python3"
  },
  "language_info": {
   "codemirror_mode": {
    "name": "ipython",
    "version": 3
   },
   "file_extension": ".py",
   "mimetype": "text/x-python",
   "name": "python",
   "nbconvert_exporter": "python",
   "pygments_lexer": "ipython3",
   "version": "3.8.5"
  }
 },
 "nbformat": 4,
 "nbformat_minor": 4
}
